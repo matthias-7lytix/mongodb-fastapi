{
 "cells": [
  {
   "cell_type": "code",
   "execution_count": 37,
   "metadata": {},
   "outputs": [],
   "source": [
    "import requests\n",
    "import urllib.parse\n",
    "\n",
    "from beanie import init_beanie\n",
    "from app.main import User, db\n",
    "from beanie.odm.operators.find.comparison import GT\n",
    "from beanie.odm.operators.find.logical import Not\n",
    "from beanie.odm.operators.find.array import Size\n",
    "from beanie.odm.operators.find.element import Exists, Type\n",
    "\n",
    "await init_beanie(database=db, document_models=[User])"
   ]
  },
  {
   "cell_type": "markdown",
   "metadata": {},
   "source": [
    "## Programmatically Login/Logout"
   ]
  },
  {
   "cell_type": "code",
   "execution_count": 43,
   "metadata": {},
   "outputs": [
    {
     "data": {
      "text/plain": [
       "(200, '9hvmK9wzDJx2eo74HgGE06ekQS-9n75T2CVzr5zJPlk')"
      ]
     },
     "execution_count": 43,
     "metadata": {},
     "output_type": "execute_result"
    }
   ],
   "source": [
    "data = urllib.parse.urlencode({\"username\": \"matthias.kornexl@7lytix.com\",\n",
    "                               \"password\": \"Password01!\"})\n",
    "\n",
    "headers = {\"Content-Type\": \"application/x-www-form-urlencoded\",\n",
    "           \"accept\": \"application/json\"}\n",
    "\n",
    "result = requests.post(\"http://localhost:8000/auth/jwt/login\",\n",
    "                       headers=headers,\n",
    "                       data=data)\n",
    "auth_cookie = result.cookies[\"fastapiusersauth\"]\n",
    "result.status_code, auth_cookie"
   ]
  },
  {
   "cell_type": "code",
   "execution_count": 44,
   "metadata": {},
   "outputs": [
    {
     "data": {
      "text/plain": [
       "200"
      ]
     },
     "execution_count": 44,
     "metadata": {},
     "output_type": "execute_result"
    }
   ],
   "source": [
    "result = requests.post(\"http://localhost:8000/auth/jwt/logout\",\n",
    "                       cookies={\"fastapiusersauth\": auth_cookie})\n",
    "result.status_code"
   ]
  },
  {
   "cell_type": "markdown",
   "metadata": {},
   "source": [
    "## MongoDB Operations"
   ]
  },
  {
   "cell_type": "markdown",
   "metadata": {},
   "source": [
    "### Query User"
   ]
  },
  {
   "cell_type": "code",
   "execution_count": 2,
   "metadata": {},
   "outputs": [],
   "source": [
    "user = await User.get(\"62da9a8e750b1f99bda1bcf6\")"
   ]
  },
  {
   "cell_type": "code",
   "execution_count": 4,
   "metadata": {},
   "outputs": [
    {
     "data": {
      "text/plain": [
       "set()"
      ]
     },
     "execution_count": 4,
     "metadata": {},
     "output_type": "execute_result"
    }
   ],
   "source": [
    "experiments = set()\n",
    "\n",
    "async for user in User.find_all():\n",
    "    experiments = experiments.union(participant.experiment_name\n",
    "                                    for participant in user.experiments)\n",
    "\n",
    "experiments"
   ]
  },
  {
   "cell_type": "code",
   "execution_count": 6,
   "metadata": {},
   "outputs": [
    {
     "data": {
      "text/plain": [
       "{'7LYTIX'}"
      ]
     },
     "execution_count": 6,
     "metadata": {},
     "output_type": "execute_result"
    }
   ],
   "source": [
    "groups = set()\n",
    "\n",
    "async for user in User.find(User.is_active == True):\n",
    "    groups = groups.union(member.group.group_name for member in user.groups)\n",
    "    \n",
    "groups"
   ]
  },
  {
   "cell_type": "code",
   "execution_count": 16,
   "metadata": {},
   "outputs": [
    {
     "data": {
      "text/plain": [
       "UserGroup(group_name='7LYTIX', group_type='company')"
      ]
     },
     "execution_count": 16,
     "metadata": {},
     "output_type": "execute_result"
    }
   ],
   "source": [
    "next(member.group\n",
    "          for user in await User.find_all().to_list()\n",
    "          for member in user.groups)"
   ]
  }
 ],
 "metadata": {
  "kernelspec": {
   "display_name": "Python 3.9.13 64-bit",
   "language": "python",
   "name": "python3"
  },
  "language_info": {
   "codemirror_mode": {
    "name": "ipython",
    "version": 3
   },
   "file_extension": ".py",
   "mimetype": "text/x-python",
   "name": "python",
   "nbconvert_exporter": "python",
   "pygments_lexer": "ipython3",
   "version": "3.9.13"
  },
  "orig_nbformat": 4,
  "vscode": {
   "interpreter": {
    "hash": "949777d72b0d2535278d3dc13498b2535136f6dfe0678499012e853ee9abcab1"
   }
  }
 },
 "nbformat": 4,
 "nbformat_minor": 2
}
