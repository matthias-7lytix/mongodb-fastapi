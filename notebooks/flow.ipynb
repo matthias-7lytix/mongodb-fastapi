{
 "cells": [
  {
   "cell_type": "code",
   "execution_count": null,
   "metadata": {},
   "outputs": [],
   "source": [
    "import requests\n",
    "\n",
    "student = {\n",
    "    \"name\": \"Jane Doe\",\n",
    "    \"email\": \"jdoe@example.com\",\n",
    "    \"course\": \"Experiments, Science, and Fashion in Nanophotonics\",\n",
    "    \"gpa\": \"3.0\",\n",
    "}\n",
    "\n",
    "r = requests.post('http://localhost:8000', json=student)\n",
    "id_ = r.json()[\"_id\"]\n",
    "\n",
    "student[\"email\"] = \"jane_doe@example.com\"\n",
    "r = requests.put('http://localhost:8000/%s' % id_, json=student)\n"
   ]
  }
 ],
 "metadata": {
  "kernelspec": {
   "display_name": "Python 3.9.13 64-bit",
   "language": "python",
   "name": "python3"
  },
  "language_info": {
   "name": "python",
   "version": "3.9.13"
  },
  "orig_nbformat": 4,
  "vscode": {
   "interpreter": {
    "hash": "949777d72b0d2535278d3dc13498b2535136f6dfe0678499012e853ee9abcab1"
   }
  }
 },
 "nbformat": 4,
 "nbformat_minor": 2
}
